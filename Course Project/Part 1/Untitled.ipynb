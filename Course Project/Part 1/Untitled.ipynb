{
 "cells": [
  {
   "cell_type": "code",
   "execution_count": 1,
   "id": "a4c55357-36e0-4bdc-ac95-0f39627bae12",
   "metadata": {},
   "outputs": [],
   "source": [
    "# ## Tallahassee AQI Data Retrieval\n",
    "\n",
    "# ### 1. Setup\n",
    "\n",
    "# Import required modules and constants\n",
    "import EPA_Requests_2 as EPA\n",
    "import pandas as pd\n",
    "\n",
    "# Tallahassee coordinates\n",
    "TALLAHASSEE_COORDS = (30.4383, -84.2807)\n",
    "\n",
    "# AQI time range (example: January 1, 2023 to December 31, 2023)\n",
    "START_DATE = \"20230101\"  # YYYYMMDD format\n",
    "END_DATE = \"20231231\"\n",
    "\n",
    "# AQI parameters for gaseous and particulate pollutants\n",
    "AQI_PARAMS = EPA.AQI_PARAMS_GASEOUS + EPA.AQI_PARAMS_PARTICULATES\n"
   ]
  },
  {
   "cell_type": "code",
   "execution_count": 6,
   "id": "ed05a453-8404-4c58-b1a3-28949de2e514",
   "metadata": {},
   "outputs": [],
   "source": [
    "AQS_REQUEST_TEMPLATE = {\n",
    "    \"email\":      \"kateroll@gmail.com\",     \n",
    "    \"key\":        \"silverfox66\",      \n",
    "    \"state\":      \"12\",     # the two digit state FIPS # as a string\n",
    "    \"county\":     \"073\",     # the three digit county FIPS # as a string\n",
    "    \"begin_date\": \"\",     # the start of a time window in YYYYMMDD format\n",
    "    \"end_date\":   \"\",     # the end of a time window in YYYYMMDD format, begin_date and end_date must be in the same year\n",
    "    \"minlat\":    29.71366231884058,\n",
    "    \"maxlat\":    31.162937681159423,\n",
    "    \"minlon\":    -85.19645091575092,\n",
    "    \"maxlon\":    -83.36494908424908,\n",
    "    \"param\":     \"\",     # a list of comma separated 5 digit codes, max 5 codes requested\n",
    "    \"pclass\":    \"\"      # parameter class is only used by the List calls\n",
    "}"
   ]
  },
  {
   "cell_type": "code",
   "execution_count": 2,
   "id": "c12b0e97-4240-4844-bf3d-23f09431ac93",
   "metadata": {},
   "outputs": [
    {
     "name": "stdout",
     "output_type": "stream",
     "text": [
      "Bounding Box Coordinates: {'min_lat': 29.71366231884058, 'max_lat': 31.162937681159423, 'min_lon': -85.19645091575092, 'max_lon': -83.36494908424908}\n"
     ]
    }
   ],
   "source": [
    "# ### 2. Calculate Bounding Box for Tallahassee\n",
    "\n",
    "# Generate a 50-mile bounding box around Tallahassee\n",
    "bounding_box = EPA.calculate_bounding_box(TALLAHASSEE_COORDS[0], TALLAHASSEE_COORDS[1], scale=2.0)  # 50 miles\n",
    "print(\"Bounding Box Coordinates:\", bounding_box)\n"
   ]
  },
  {
   "cell_type": "code",
   "execution_count": 4,
   "id": "cb3cf71e-36f1-4aaa-af63-478d56b917bd",
   "metadata": {},
   "outputs": [
    {
     "ename": "KeyError",
     "evalue": "'minlat'",
     "output_type": "error",
     "traceback": [
      "\u001b[1;31m---------------------------------------------------------------------------\u001b[0m",
      "\u001b[1;31mKeyError\u001b[0m                                  Traceback (most recent call last)",
      "Cell \u001b[1;32mIn[4], line 4\u001b[0m\n\u001b[0;32m      1\u001b[0m \u001b[38;5;66;03m# ### 3. Get Monitoring Stations within the Bounding Box\u001b[39;00m\n\u001b[0;32m      2\u001b[0m \n\u001b[0;32m      3\u001b[0m \u001b[38;5;66;03m# Fetch the monitoring stations within the bounding box\u001b[39;00m\n\u001b[1;32m----> 4\u001b[0m stations_df \u001b[38;5;241m=\u001b[39m EPA\u001b[38;5;241m.\u001b[39mrequest_monitors_B(bounding_box\u001b[38;5;241m=\u001b[39mbounding_box, param\u001b[38;5;241m=\u001b[39m\u001b[38;5;124m'\u001b[39m\u001b[38;5;124m,\u001b[39m\u001b[38;5;124m'\u001b[39m\u001b[38;5;241m.\u001b[39mjoin(AQI_PARAMS),\n\u001b[0;32m      5\u001b[0m                                    begin_date\u001b[38;5;241m=\u001b[39mSTART_DATE, end_date\u001b[38;5;241m=\u001b[39mEND_DATE)\n\u001b[0;32m      6\u001b[0m \u001b[38;5;28mprint\u001b[39m(\u001b[38;5;124m\"\u001b[39m\u001b[38;5;124mMonitoring Stations within 50 miles of Tallahassee:\u001b[39m\u001b[38;5;124m\"\u001b[39m)\n\u001b[0;32m      7\u001b[0m stations_df\u001b[38;5;241m.\u001b[39mhead()\n",
      "File \u001b[1;32m~\\python coding\\code_personal\\Data512\\Course Project\\Part 1\\EPA_Requests_2.py:205\u001b[0m, in \u001b[0;36mrequest_monitors_B\u001b[1;34m(bounding_box, param, begin_date, end_date, email, api_key, endpoint_action)\u001b[0m\n\u001b[0;32m    195\u001b[0m request_params\u001b[38;5;241m.\u001b[39mupdate({\n\u001b[0;32m    196\u001b[0m     \u001b[38;5;124m'\u001b[39m\u001b[38;5;124memail\u001b[39m\u001b[38;5;124m'\u001b[39m: email,\n\u001b[0;32m    197\u001b[0m     \u001b[38;5;124m'\u001b[39m\u001b[38;5;124mkey\u001b[39m\u001b[38;5;124m'\u001b[39m: api_key,\n\u001b[1;32m   (...)\u001b[0m\n\u001b[0;32m    200\u001b[0m     \u001b[38;5;124m'\u001b[39m\u001b[38;5;124mend_date\u001b[39m\u001b[38;5;124m'\u001b[39m: end_date\n\u001b[0;32m    201\u001b[0m })\n\u001b[0;32m    203\u001b[0m \u001b[38;5;28;01mif\u001b[39;00m bounding_box:\n\u001b[0;32m    204\u001b[0m     request_params\u001b[38;5;241m.\u001b[39mupdate({\n\u001b[1;32m--> 205\u001b[0m         \u001b[38;5;124m'\u001b[39m\u001b[38;5;124mminlat\u001b[39m\u001b[38;5;124m'\u001b[39m: bounding_box[\u001b[38;5;124m'\u001b[39m\u001b[38;5;124mminlat\u001b[39m\u001b[38;5;124m'\u001b[39m],\n\u001b[0;32m    206\u001b[0m         \u001b[38;5;124m'\u001b[39m\u001b[38;5;124mmaxlat\u001b[39m\u001b[38;5;124m'\u001b[39m: bounding_box[\u001b[38;5;124m'\u001b[39m\u001b[38;5;124mmaxlat\u001b[39m\u001b[38;5;124m'\u001b[39m],\n\u001b[0;32m    207\u001b[0m         \u001b[38;5;124m'\u001b[39m\u001b[38;5;124mminlon\u001b[39m\u001b[38;5;124m'\u001b[39m: bounding_box[\u001b[38;5;124m'\u001b[39m\u001b[38;5;124mminlon\u001b[39m\u001b[38;5;124m'\u001b[39m],\n\u001b[0;32m    208\u001b[0m         \u001b[38;5;124m'\u001b[39m\u001b[38;5;124mmaxlon\u001b[39m\u001b[38;5;124m'\u001b[39m: bounding_box[\u001b[38;5;124m'\u001b[39m\u001b[38;5;124mmaxlon\u001b[39m\u001b[38;5;124m'\u001b[39m]\n\u001b[0;32m    209\u001b[0m     })\n\u001b[0;32m    211\u001b[0m request_url \u001b[38;5;241m=\u001b[39m API_REQUEST_URL \u001b[38;5;241m+\u001b[39m endpoint_action\u001b[38;5;241m.\u001b[39mformat(\u001b[38;5;241m*\u001b[39m\u001b[38;5;241m*\u001b[39mrequest_params)\n\u001b[0;32m    212\u001b[0m response \u001b[38;5;241m=\u001b[39m make_api_request(request_url)\n",
      "\u001b[1;31mKeyError\u001b[0m: 'minlat'"
     ]
    }
   ],
   "source": [
    "# ### 3. Get Monitoring Stations within the Bounding Box\n",
    "\n",
    "# Fetch the monitoring stations within the bounding box\n",
    "stations_df = EPA.request_monitors_B(bounding_box=bounding_box, param=','.join(AQI_PARAMS),\n",
    "                                   begin_date=START_DATE, end_date=END_DATE)\n",
    "print(\"Monitoring Stations within 50 miles of Tallahassee:\")\n",
    "stations_df.head()\n"
   ]
  },
  {
   "cell_type": "code",
   "execution_count": 7,
   "id": "99e1e812-6f95-4609-a93d-95f6641b633d",
   "metadata": {},
   "outputs": [
    {
     "name": "stdout",
     "output_type": "stream",
     "text": [
      "Error fetching data: 400 Client Error: Bad Request for url: https://aqs.epa.gov/data/api/monitors/byBox?email=kateroll@gmail.com&key=silverfox66&param=&minlat=29.71366231884058&maxlat=31.162937681159423&minlon=-85.19645091575092&maxlon=-83.36494908424908&bdate=&edate=\n",
      "Monitoring Stations within 50 miles of Tallahassee:\n"
     ]
    },
    {
     "data": {
      "text/html": [
       "<div>\n",
       "<style scoped>\n",
       "    .dataframe tbody tr th:only-of-type {\n",
       "        vertical-align: middle;\n",
       "    }\n",
       "\n",
       "    .dataframe tbody tr th {\n",
       "        vertical-align: top;\n",
       "    }\n",
       "\n",
       "    .dataframe thead th {\n",
       "        text-align: right;\n",
       "    }\n",
       "</style>\n",
       "<table border=\"1\" class=\"dataframe\">\n",
       "  <thead>\n",
       "    <tr style=\"text-align: right;\">\n",
       "      <th></th>\n",
       "    </tr>\n",
       "  </thead>\n",
       "  <tbody>\n",
       "  </tbody>\n",
       "</table>\n",
       "</div>"
      ],
      "text/plain": [
       "Empty DataFrame\n",
       "Columns: []\n",
       "Index: []"
      ]
     },
     "execution_count": 7,
     "metadata": {},
     "output_type": "execute_result"
    }
   ],
   "source": [
    "# ### 3. Get Monitoring Stations within the Bounding Box\n",
    "\n",
    "# Define a function to request monitors using the AQS_REQUEST_TEMPLATE\n",
    "def request_monitors_with_template(template: dict) -> pd.DataFrame:\n",
    "    \"\"\"\n",
    "    Request monitoring stations based on the template, updating the API action.\n",
    "\n",
    "    Parameters\n",
    "    ----------\n",
    "    template : dict\n",
    "        Template containing all required parameters for the API request.\n",
    "\n",
    "    Returns\n",
    "    -------\n",
    "    pd.DataFrame\n",
    "        DataFrame with monitoring station information if successful.\n",
    "    \"\"\"\n",
    "    request_data = template.copy()\n",
    "    endpoint_action = EPA.API_ACTION_MONITORS_BOX.format(**request_data)\n",
    "    request_url = EPA.API_REQUEST_URL + endpoint_action\n",
    "    response = EPA.make_api_request(request_url)\n",
    "\n",
    "    if response and \"Data\" in response:\n",
    "        return pd.DataFrame(response[\"Data\"])\n",
    "    return pd.DataFrame()  # Empty DataFrame if no data\n",
    "\n",
    "# Fetch monitoring stations\n",
    "stations_df = request_monitors_with_template(AQS_REQUEST_TEMPLATE)\n",
    "print(\"Monitoring Stations within 50 miles of Tallahassee:\")\n",
    "stations_df.head()"
   ]
  },
  {
   "cell_type": "code",
   "execution_count": 5,
   "id": "bd400dee-82cd-4654-b796-a3383389e801",
   "metadata": {},
   "outputs": [
    {
     "name": "stdout",
     "output_type": "stream",
     "text": [
      "Bounding Box Coordinates: {'minlat': 29.71366231884058, 'maxlat': 31.162937681159423, 'minlon': -85.19645091575092, 'maxlon': -83.36494908424908}\n"
     ]
    }
   ],
   "source": [
    "bounding_box_params = {\n",
    "    \"minlat\": bounding_box[\"min_lat\"],\n",
    "    \"maxlat\": bounding_box[\"max_lat\"],\n",
    "    \"minlon\": bounding_box[\"min_lon\"],\n",
    "    \"maxlon\": bounding_box[\"max_lon\"]\n",
    "}\n",
    "\n",
    "print(\"Bounding Box Coordinates:\", bounding_box_params)"
   ]
  },
  {
   "cell_type": "code",
   "execution_count": 5,
   "id": "a8b765e8-acec-40eb-91ff-d4b490ce37da",
   "metadata": {},
   "outputs": [
    {
     "name": "stdout",
     "output_type": "stream",
     "text": [
      "Error fetching data: 400 Client Error: Bad Request for url: https://aqs.epa.gov/data/api/monitors/byBox?email=your_default_email&key=your_default_api_key&param=O3,NO2,SO2,PM2.5,PM10&minlat=29.71366231884058&maxlat=31.162937681159423&minlon=-85.19645091575092&maxlon=-83.36494908424908&bdate=20230101&edate=20231231\n",
      "Monitoring Stations within 50 miles of Tallahassee:\n"
     ]
    },
    {
     "data": {
      "text/html": [
       "<div>\n",
       "<style scoped>\n",
       "    .dataframe tbody tr th:only-of-type {\n",
       "        vertical-align: middle;\n",
       "    }\n",
       "\n",
       "    .dataframe tbody tr th {\n",
       "        vertical-align: top;\n",
       "    }\n",
       "\n",
       "    .dataframe thead th {\n",
       "        text-align: right;\n",
       "    }\n",
       "</style>\n",
       "<table border=\"1\" class=\"dataframe\">\n",
       "  <thead>\n",
       "    <tr style=\"text-align: right;\">\n",
       "      <th></th>\n",
       "    </tr>\n",
       "  </thead>\n",
       "  <tbody>\n",
       "  </tbody>\n",
       "</table>\n",
       "</div>"
      ],
      "text/plain": [
       "Empty DataFrame\n",
       "Columns: []\n",
       "Index: []"
      ]
     },
     "execution_count": 5,
     "metadata": {},
     "output_type": "execute_result"
    }
   ],
   "source": [
    "stations_df = EPA.request_monitors(bounding_box=bounding_box_params, param=','.join(AQI_PARAMS),\n",
    "                                   begin_date=START_DATE, end_date=END_DATE)\n",
    "print(\"Monitoring Stations within 50 miles of Tallahassee:\")\n",
    "stations_df.head()"
   ]
  },
  {
   "cell_type": "code",
   "execution_count": 6,
   "id": "ab29f6e3-21d6-48dc-a587-447262632ede",
   "metadata": {},
   "outputs": [
    {
     "name": "stdout",
     "output_type": "stream",
     "text": [
      "Error fetching data: 400 Client Error: Bad Request for url: https://aqs.epa.gov/data/api/monitors/byBox?email=your_default_email&key=your_default_api_key&param=O3&minlat=29.71366231884058&maxlat=31.162937681159423&minlon=-85.19645091575092&maxlon=-83.36494908424908&bdate=20230101&edate=20231231\n",
      "Monitoring Stations within 50 miles of Tallahassee:\n"
     ]
    },
    {
     "data": {
      "text/html": [
       "<div>\n",
       "<style scoped>\n",
       "    .dataframe tbody tr th:only-of-type {\n",
       "        vertical-align: middle;\n",
       "    }\n",
       "\n",
       "    .dataframe tbody tr th {\n",
       "        vertical-align: top;\n",
       "    }\n",
       "\n",
       "    .dataframe thead th {\n",
       "        text-align: right;\n",
       "    }\n",
       "</style>\n",
       "<table border=\"1\" class=\"dataframe\">\n",
       "  <thead>\n",
       "    <tr style=\"text-align: right;\">\n",
       "      <th></th>\n",
       "    </tr>\n",
       "  </thead>\n",
       "  <tbody>\n",
       "  </tbody>\n",
       "</table>\n",
       "</div>"
      ],
      "text/plain": [
       "Empty DataFrame\n",
       "Columns: []\n",
       "Index: []"
      ]
     },
     "execution_count": 6,
     "metadata": {},
     "output_type": "execute_result"
    }
   ],
   "source": [
    "# Retry with a single AQI parameter to test the API\n",
    "stations_df = EPA.request_monitors(bounding_box=bounding_box_params, param=\"O3\",\n",
    "                                   begin_date=START_DATE, end_date=END_DATE)\n",
    "print(\"Monitoring Stations within 50 miles of Tallahassee:\")\n",
    "stations_df.head()"
   ]
  },
  {
   "cell_type": "code",
   "execution_count": null,
   "id": "5f3fc220-a342-4d9a-a836-f877434f9379",
   "metadata": {},
   "outputs": [],
   "source": []
  }
 ],
 "metadata": {
  "kernelspec": {
   "display_name": "Python 3 (ipykernel)",
   "language": "python",
   "name": "python3"
  },
  "language_info": {
   "codemirror_mode": {
    "name": "ipython",
    "version": 3
   },
   "file_extension": ".py",
   "mimetype": "text/x-python",
   "name": "python",
   "nbconvert_exporter": "python",
   "pygments_lexer": "ipython3",
   "version": "3.12.4"
  }
 },
 "nbformat": 4,
 "nbformat_minor": 5
}
