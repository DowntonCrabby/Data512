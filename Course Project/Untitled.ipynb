{
 "cells": [
  {
   "cell_type": "code",
   "execution_count": 3,
   "id": "f7a6118b-9e8c-4384-bac9-cbe765954ffe",
   "metadata": {},
   "outputs": [
    {
     "name": "stdout",
     "output_type": "stream",
     "text": [
      "Collecting camelot-py[cv]\n",
      "  Downloading camelot_py-0.11.0-py3-none-any.whl.metadata (8.3 kB)\n",
      "Requirement already satisfied: chardet>=3.0.4 in c:\\anaconda\\lib\\site-packages (from camelot-py[cv]) (4.0.0)\n",
      "Requirement already satisfied: click>=6.7 in c:\\anaconda\\lib\\site-packages (from camelot-py[cv]) (8.1.7)\n",
      "Requirement already satisfied: numpy>=1.13.3 in c:\\anaconda\\lib\\site-packages (from camelot-py[cv]) (1.26.4)\n",
      "Requirement already satisfied: openpyxl>=2.5.8 in c:\\anaconda\\lib\\site-packages (from camelot-py[cv]) (3.1.2)\n",
      "Requirement already satisfied: pandas>=0.23.4 in c:\\anaconda\\lib\\site-packages (from camelot-py[cv]) (2.2.2)\n",
      "Collecting pdfminer.six>=20200726 (from camelot-py[cv])\n",
      "  Downloading pdfminer.six-20240706-py3-none-any.whl.metadata (4.1 kB)\n",
      "Collecting pypdf>=3.0.0 (from camelot-py[cv])\n",
      "  Downloading pypdf-5.1.0-py3-none-any.whl.metadata (7.2 kB)\n",
      "Requirement already satisfied: tabulate>=0.8.9 in c:\\anaconda\\lib\\site-packages (from camelot-py[cv]) (0.9.0)\n",
      "Collecting ghostscript>=0.7 (from camelot-py[cv])\n",
      "  Downloading ghostscript-0.7-py2.py3-none-any.whl.metadata (4.4 kB)\n",
      "Collecting opencv-python>=3.4.2.17 (from camelot-py[cv])\n",
      "  Downloading opencv_python-4.10.0.84-cp37-abi3-win_amd64.whl.metadata (20 kB)\n",
      "INFO: pip is looking at multiple versions of camelot-py[cv] to determine which version is compatible with other requirements. This could take a while.\n",
      "Collecting camelot-py[cv]\n",
      "  Downloading camelot_py-0.10.1-py3-none-any.whl.metadata (8.3 kB)\n",
      "Collecting PyPDF2>=1.26.0 (from camelot-py[cv])\n",
      "  Downloading pypdf2-3.0.1-py3-none-any.whl.metadata (6.8 kB)\n",
      "Collecting camelot-py[cv]\n",
      "  Downloading camelot_py-0.10.0-py3-none-any.whl.metadata (8.3 kB)\n",
      "  Downloading camelot_py-0.9.0-py3-none-any.whl.metadata (7.5 kB)\n",
      "Requirement already satisfied: colorama in c:\\anaconda\\lib\\site-packages (from click>=6.7->camelot-py[cv]) (0.4.6)\n",
      "Requirement already satisfied: et-xmlfile in c:\\anaconda\\lib\\site-packages (from openpyxl>=2.5.8->camelot-py[cv]) (1.1.0)\n",
      "Requirement already satisfied: python-dateutil>=2.8.2 in c:\\anaconda\\lib\\site-packages (from pandas>=0.23.4->camelot-py[cv]) (2.9.0.post0)\n",
      "Requirement already satisfied: pytz>=2020.1 in c:\\anaconda\\lib\\site-packages (from pandas>=0.23.4->camelot-py[cv]) (2024.1)\n",
      "Requirement already satisfied: tzdata>=2022.7 in c:\\anaconda\\lib\\site-packages (from pandas>=0.23.4->camelot-py[cv]) (2023.3)\n",
      "Requirement already satisfied: charset-normalizer>=2.0.0 in c:\\anaconda\\lib\\site-packages (from pdfminer.six>=20200726->camelot-py[cv]) (2.0.4)\n",
      "Requirement already satisfied: cryptography>=36.0.0 in c:\\anaconda\\lib\\site-packages (from pdfminer.six>=20200726->camelot-py[cv]) (42.0.5)\n",
      "Requirement already satisfied: cffi>=1.12 in c:\\anaconda\\lib\\site-packages (from cryptography>=36.0.0->pdfminer.six>=20200726->camelot-py[cv]) (1.16.0)\n",
      "Requirement already satisfied: six>=1.5 in c:\\anaconda\\lib\\site-packages (from python-dateutil>=2.8.2->pandas>=0.23.4->camelot-py[cv]) (1.16.0)\n",
      "Requirement already satisfied: pycparser in c:\\anaconda\\lib\\site-packages (from cffi>=1.12->cryptography>=36.0.0->pdfminer.six>=20200726->camelot-py[cv]) (2.21)\n",
      "Downloading opencv_python-4.10.0.84-cp37-abi3-win_amd64.whl (38.8 MB)\n",
      "   ---------------------------------------- 0.0/38.8 MB ? eta -:--:--\n",
      "   ---------------------------------------- 0.3/38.8 MB 10.6 MB/s eta 0:00:04\n",
      "   - -------------------------------------- 1.2/38.8 MB 18.5 MB/s eta 0:00:03\n",
      "   -- ------------------------------------- 2.1/38.8 MB 19.4 MB/s eta 0:00:02\n",
      "   -- ------------------------------------- 2.8/38.8 MB 18.2 MB/s eta 0:00:02\n",
      "   --- ------------------------------------ 3.9/38.8 MB 19.0 MB/s eta 0:00:02\n",
      "   ---- ----------------------------------- 4.8/38.8 MB 19.1 MB/s eta 0:00:02\n",
      "   ------ --------------------------------- 5.9/38.8 MB 19.9 MB/s eta 0:00:02\n",
      "   ------ --------------------------------- 6.7/38.8 MB 19.5 MB/s eta 0:00:02\n",
      "   ------- -------------------------------- 7.5/38.8 MB 19.2 MB/s eta 0:00:02\n",
      "   --------- ------------------------------ 8.9/38.8 MB 20.3 MB/s eta 0:00:02\n",
      "   ---------- ----------------------------- 9.8/38.8 MB 20.1 MB/s eta 0:00:02\n",
      "   ----------- ---------------------------- 10.8/38.8 MB 21.1 MB/s eta 0:00:02\n",
      "   ------------ --------------------------- 12.3/38.8 MB 21.8 MB/s eta 0:00:02\n",
      "   ------------- -------------------------- 13.1/38.8 MB 22.6 MB/s eta 0:00:02\n",
      "   -------------- ------------------------- 14.2/38.8 MB 22.5 MB/s eta 0:00:02\n",
      "   --------------- ------------------------ 15.0/38.8 MB 21.9 MB/s eta 0:00:02\n",
      "   ---------------- ----------------------- 16.3/38.8 MB 21.9 MB/s eta 0:00:02\n",
      "   ----------------- ---------------------- 17.2/38.8 MB 22.6 MB/s eta 0:00:01\n",
      "   ------------------ --------------------- 18.4/38.8 MB 23.4 MB/s eta 0:00:01\n",
      "   ------------------- -------------------- 19.0/38.8 MB 21.8 MB/s eta 0:00:01\n",
      "   -------------------- ------------------- 20.2/38.8 MB 21.8 MB/s eta 0:00:01\n",
      "   --------------------- ------------------ 21.0/38.8 MB 21.8 MB/s eta 0:00:01\n",
      "   ---------------------- ----------------- 21.6/38.8 MB 20.5 MB/s eta 0:00:01\n",
      "   ----------------------- ---------------- 22.5/38.8 MB 19.9 MB/s eta 0:00:01\n",
      "   ------------------------ --------------- 24.2/38.8 MB 21.1 MB/s eta 0:00:01\n",
      "   ------------------------- -------------- 25.1/38.8 MB 21.1 MB/s eta 0:00:01\n",
      "   -------------------------- ------------- 25.6/38.8 MB 20.5 MB/s eta 0:00:01\n",
      "   -------------------------- ------------- 26.2/38.8 MB 19.3 MB/s eta 0:00:01\n",
      "   --------------------------- ------------ 26.7/38.8 MB 18.7 MB/s eta 0:00:01\n",
      "   ---------------------------- ----------- 27.4/38.8 MB 18.2 MB/s eta 0:00:01\n",
      "   ----------------------------- ---------- 29.0/38.8 MB 19.2 MB/s eta 0:00:01\n",
      "   --------------------------------- ------ 32.4/38.8 MB 26.2 MB/s eta 0:00:01\n",
      "   ----------------------------------- ---- 34.4/38.8 MB 27.3 MB/s eta 0:00:01\n",
      "   ------------------------------------- -- 36.5/38.8 MB 38.6 MB/s eta 0:00:01\n",
      "   ---------------------------------------  38.8/38.8 MB 59.8 MB/s eta 0:00:01\n",
      "   ---------------------------------------  38.8/38.8 MB 59.8 MB/s eta 0:00:01\n",
      "   ---------------------------------------  38.8/38.8 MB 59.8 MB/s eta 0:00:01\n",
      "   ---------------------------------------- 38.8/38.8 MB 34.5 MB/s eta 0:00:00\n",
      "Downloading pdfminer.six-20240706-py3-none-any.whl (5.6 MB)\n",
      "   ---------------------------------------- 0.0/5.6 MB ? eta -:--:--\n",
      "   ----------------- ---------------------- 2.5/5.6 MB 53.4 MB/s eta 0:00:01\n",
      "   ---------------------------------- ----- 4.9/5.6 MB 62.2 MB/s eta 0:00:01\n",
      "   ---------------------------------------- 5.6/5.6 MB 44.8 MB/s eta 0:00:00\n",
      "Downloading pypdf2-3.0.1-py3-none-any.whl (232 kB)\n",
      "   ---------------------------------------- 0.0/232.6 kB ? eta -:--:--\n",
      "   ---------------------------------------- 232.6/232.6 kB 6.9 MB/s eta 0:00:00\n",
      "Downloading camelot_py-0.9.0-py3-none-any.whl (43 kB)\n",
      "   ---------------------------------------- 0.0/43.2 kB ? eta -:--:--\n",
      "   ---------------------------------------- 43.2/43.2 kB 2.1 MB/s eta 0:00:00\n",
      "Installing collected packages: PyPDF2, opencv-python, pdfminer.six, camelot-py\n",
      "Successfully installed PyPDF2-3.0.1 camelot-py-0.9.0 opencv-python-4.10.0.84 pdfminer.six-20240706\n",
      "Note: you may need to restart the kernel to use updated packages.\n"
     ]
    }
   ],
   "source": [
    "pip install camelot-py[cv]"
   ]
  },
  {
   "cell_type": "code",
   "execution_count": null,
   "id": "9f336775-d83d-4d7d-8828-b9dd22404313",
   "metadata": {},
   "outputs": [],
   "source": []
  },
  {
   "cell_type": "code",
   "execution_count": 1,
   "id": "eafe316b-6048-4f1b-ae47-35ba11b6a0ae",
   "metadata": {},
   "outputs": [],
   "source": [
    "import os\n",
    "import pandas as pd\n",
    "from tabula import read_pdf\n",
    "import pandas as pd"
   ]
  },
  {
   "cell_type": "code",
   "execution_count": 2,
   "id": "4e2c6dc0-34ce-44b1-81ae-e52e19e77709",
   "metadata": {},
   "outputs": [
    {
     "name": "stderr",
     "output_type": "stream",
     "text": [
      "Failed to import jpype dependencies. Fallback to subprocess.\n",
      "No module named 'jpype'\n"
     ]
    },
    {
     "ename": "JavaNotFoundError",
     "evalue": "`java` command is not found from this Python process.Please ensure Java is installed and PATH is set for `java`",
     "output_type": "error",
     "traceback": [
      "\u001b[1;31m---------------------------------------------------------------------------\u001b[0m",
      "\u001b[1;31mFileNotFoundError\u001b[0m                         Traceback (most recent call last)",
      "File \u001b[1;32mC:\\anaconda\\Lib\\site-packages\\tabula\\backend.py:122\u001b[0m, in \u001b[0;36mSubprocessTabula.call_tabula_java\u001b[1;34m(self, options, path)\u001b[0m\n\u001b[0;32m    121\u001b[0m \u001b[38;5;28;01mtry\u001b[39;00m:\n\u001b[1;32m--> 122\u001b[0m     result \u001b[38;5;241m=\u001b[39m subprocess\u001b[38;5;241m.\u001b[39mrun(\n\u001b[0;32m    123\u001b[0m         args,\n\u001b[0;32m    124\u001b[0m         stdout\u001b[38;5;241m=\u001b[39msubprocess\u001b[38;5;241m.\u001b[39mPIPE,\n\u001b[0;32m    125\u001b[0m         stderr\u001b[38;5;241m=\u001b[39msubprocess\u001b[38;5;241m.\u001b[39mPIPE,\n\u001b[0;32m    126\u001b[0m         stdin\u001b[38;5;241m=\u001b[39msubprocess\u001b[38;5;241m.\u001b[39mDEVNULL,\n\u001b[0;32m    127\u001b[0m         check\u001b[38;5;241m=\u001b[39m\u001b[38;5;28;01mTrue\u001b[39;00m,\n\u001b[0;32m    128\u001b[0m     )\n\u001b[0;32m    129\u001b[0m     \u001b[38;5;28;01mif\u001b[39;00m result\u001b[38;5;241m.\u001b[39mstderr:\n",
      "File \u001b[1;32mC:\\anaconda\\Lib\\subprocess.py:548\u001b[0m, in \u001b[0;36mrun\u001b[1;34m(input, capture_output, timeout, check, *popenargs, **kwargs)\u001b[0m\n\u001b[0;32m    546\u001b[0m     kwargs[\u001b[38;5;124m'\u001b[39m\u001b[38;5;124mstderr\u001b[39m\u001b[38;5;124m'\u001b[39m] \u001b[38;5;241m=\u001b[39m PIPE\n\u001b[1;32m--> 548\u001b[0m \u001b[38;5;28;01mwith\u001b[39;00m Popen(\u001b[38;5;241m*\u001b[39mpopenargs, \u001b[38;5;241m*\u001b[39m\u001b[38;5;241m*\u001b[39mkwargs) \u001b[38;5;28;01mas\u001b[39;00m process:\n\u001b[0;32m    549\u001b[0m     \u001b[38;5;28;01mtry\u001b[39;00m:\n",
      "File \u001b[1;32mC:\\anaconda\\Lib\\subprocess.py:1026\u001b[0m, in \u001b[0;36mPopen.__init__\u001b[1;34m(self, args, bufsize, executable, stdin, stdout, stderr, preexec_fn, close_fds, shell, cwd, env, universal_newlines, startupinfo, creationflags, restore_signals, start_new_session, pass_fds, user, group, extra_groups, encoding, errors, text, umask, pipesize, process_group)\u001b[0m\n\u001b[0;32m   1023\u001b[0m             \u001b[38;5;28mself\u001b[39m\u001b[38;5;241m.\u001b[39mstderr \u001b[38;5;241m=\u001b[39m io\u001b[38;5;241m.\u001b[39mTextIOWrapper(\u001b[38;5;28mself\u001b[39m\u001b[38;5;241m.\u001b[39mstderr,\n\u001b[0;32m   1024\u001b[0m                     encoding\u001b[38;5;241m=\u001b[39mencoding, errors\u001b[38;5;241m=\u001b[39merrors)\n\u001b[1;32m-> 1026\u001b[0m     \u001b[38;5;28mself\u001b[39m\u001b[38;5;241m.\u001b[39m_execute_child(args, executable, preexec_fn, close_fds,\n\u001b[0;32m   1027\u001b[0m                         pass_fds, cwd, env,\n\u001b[0;32m   1028\u001b[0m                         startupinfo, creationflags, shell,\n\u001b[0;32m   1029\u001b[0m                         p2cread, p2cwrite,\n\u001b[0;32m   1030\u001b[0m                         c2pread, c2pwrite,\n\u001b[0;32m   1031\u001b[0m                         errread, errwrite,\n\u001b[0;32m   1032\u001b[0m                         restore_signals,\n\u001b[0;32m   1033\u001b[0m                         gid, gids, uid, umask,\n\u001b[0;32m   1034\u001b[0m                         start_new_session, process_group)\n\u001b[0;32m   1035\u001b[0m \u001b[38;5;28;01mexcept\u001b[39;00m:\n\u001b[0;32m   1036\u001b[0m     \u001b[38;5;66;03m# Cleanup if the child failed starting.\u001b[39;00m\n",
      "File \u001b[1;32mC:\\anaconda\\Lib\\subprocess.py:1538\u001b[0m, in \u001b[0;36mPopen._execute_child\u001b[1;34m(self, args, executable, preexec_fn, close_fds, pass_fds, cwd, env, startupinfo, creationflags, shell, p2cread, p2cwrite, c2pread, c2pwrite, errread, errwrite, unused_restore_signals, unused_gid, unused_gids, unused_uid, unused_umask, unused_start_new_session, unused_process_group)\u001b[0m\n\u001b[0;32m   1537\u001b[0m \u001b[38;5;28;01mtry\u001b[39;00m:\n\u001b[1;32m-> 1538\u001b[0m     hp, ht, pid, tid \u001b[38;5;241m=\u001b[39m _winapi\u001b[38;5;241m.\u001b[39mCreateProcess(executable, args,\n\u001b[0;32m   1539\u001b[0m                              \u001b[38;5;66;03m# no special security\u001b[39;00m\n\u001b[0;32m   1540\u001b[0m                              \u001b[38;5;28;01mNone\u001b[39;00m, \u001b[38;5;28;01mNone\u001b[39;00m,\n\u001b[0;32m   1541\u001b[0m                              \u001b[38;5;28mint\u001b[39m(\u001b[38;5;129;01mnot\u001b[39;00m close_fds),\n\u001b[0;32m   1542\u001b[0m                              creationflags,\n\u001b[0;32m   1543\u001b[0m                              env,\n\u001b[0;32m   1544\u001b[0m                              cwd,\n\u001b[0;32m   1545\u001b[0m                              startupinfo)\n\u001b[0;32m   1546\u001b[0m \u001b[38;5;28;01mfinally\u001b[39;00m:\n\u001b[0;32m   1547\u001b[0m     \u001b[38;5;66;03m# Child is launched. Close the parent's copy of those pipe\u001b[39;00m\n\u001b[0;32m   1548\u001b[0m     \u001b[38;5;66;03m# handles that only the child should have open.  You need\u001b[39;00m\n\u001b[1;32m   (...)\u001b[0m\n\u001b[0;32m   1551\u001b[0m     \u001b[38;5;66;03m# pipe will not close when the child process exits and the\u001b[39;00m\n\u001b[0;32m   1552\u001b[0m     \u001b[38;5;66;03m# ReadFile will hang.\u001b[39;00m\n",
      "\u001b[1;31mFileNotFoundError\u001b[0m: [WinError 2] The system cannot find the file specified",
      "\nDuring handling of the above exception, another exception occurred:\n",
      "\u001b[1;31mJavaNotFoundError\u001b[0m                         Traceback (most recent call last)",
      "Cell \u001b[1;32mIn[2], line 6\u001b[0m\n\u001b[0;32m      4\u001b[0m \u001b[38;5;66;03m# Extract tables from pages 5 and 6 of the PDF\u001b[39;00m\n\u001b[0;32m      5\u001b[0m file_path \u001b[38;5;241m=\u001b[39m \u001b[38;5;124mr\u001b[39m\u001b[38;5;124m\"\u001b[39m\u001b[38;5;124mC:\u001b[39m\u001b[38;5;124m\\\u001b[39m\u001b[38;5;124mUsers\u001b[39m\u001b[38;5;124m\\\u001b[39m\u001b[38;5;124mclark.roll\u001b[39m\u001b[38;5;124m\\\u001b[39m\u001b[38;5;124mpython coding\u001b[39m\u001b[38;5;124m\\\u001b[39m\u001b[38;5;124mcode_personal\u001b[39m\u001b[38;5;124m\\\u001b[39m\u001b[38;5;124mData512\u001b[39m\u001b[38;5;124m\\\u001b[39m\u001b[38;5;124mCourse Project\u001b[39m\u001b[38;5;124m\\\u001b[39m\u001b[38;5;124mPart 2\u001b[39m\u001b[38;5;124m\\\u001b[39m\u001b[38;5;124mdataset\u001b[39m\u001b[38;5;124m\\\u001b[39m\u001b[38;5;124m2023 EIA FINAL REPORT.pdf\u001b[39m\u001b[38;5;124m\"\u001b[39m\n\u001b[1;32m----> 6\u001b[0m district_1_table \u001b[38;5;241m=\u001b[39m read_pdf(file_path, pages\u001b[38;5;241m=\u001b[39m\u001b[38;5;241m5\u001b[39m, lattice\u001b[38;5;241m=\u001b[39m\u001b[38;5;28;01mTrue\u001b[39;00m)\n\u001b[0;32m      7\u001b[0m district_2_table \u001b[38;5;241m=\u001b[39m read_pdf(file_path, pages\u001b[38;5;241m=\u001b[39m\u001b[38;5;241m6\u001b[39m, lattice\u001b[38;5;241m=\u001b[39m\u001b[38;5;28;01mTrue\u001b[39;00m)\n\u001b[0;32m      9\u001b[0m \u001b[38;5;66;03m# Convert the tables to DataFrames\u001b[39;00m\n",
      "File \u001b[1;32mC:\\anaconda\\Lib\\site-packages\\tabula\\io.py:400\u001b[0m, in \u001b[0;36mread_pdf\u001b[1;34m(input_path, output_format, encoding, java_options, pandas_options, multiple_tables, user_agent, use_raw_url, pages, guess, area, relative_area, lattice, stream, password, silent, columns, relative_columns, format, batch, output_path, force_subprocess, options)\u001b[0m\n\u001b[0;32m    397\u001b[0m     \u001b[38;5;28;01mraise\u001b[39;00m \u001b[38;5;167;01mValueError\u001b[39;00m(\u001b[38;5;124mf\u001b[39m\u001b[38;5;124m\"\u001b[39m\u001b[38;5;132;01m{\u001b[39;00mpath\u001b[38;5;132;01m}\u001b[39;00m\u001b[38;5;124m is empty. Check the file, or download it manually.\u001b[39m\u001b[38;5;124m\"\u001b[39m)\n\u001b[0;32m    399\u001b[0m \u001b[38;5;28;01mtry\u001b[39;00m:\n\u001b[1;32m--> 400\u001b[0m     output \u001b[38;5;241m=\u001b[39m _run(\n\u001b[0;32m    401\u001b[0m         tabula_options,\n\u001b[0;32m    402\u001b[0m         java_options,\n\u001b[0;32m    403\u001b[0m         path,\n\u001b[0;32m    404\u001b[0m         encoding\u001b[38;5;241m=\u001b[39mencoding,\n\u001b[0;32m    405\u001b[0m         force_subprocess\u001b[38;5;241m=\u001b[39mforce_subprocess,\n\u001b[0;32m    406\u001b[0m     )\n\u001b[0;32m    407\u001b[0m \u001b[38;5;28;01mfinally\u001b[39;00m:\n\u001b[0;32m    408\u001b[0m     \u001b[38;5;28;01mif\u001b[39;00m temporary:\n",
      "File \u001b[1;32mC:\\anaconda\\Lib\\site-packages\\tabula\\io.py:86\u001b[0m, in \u001b[0;36m_run\u001b[1;34m(options, java_options, path, encoding, force_subprocess)\u001b[0m\n\u001b[0;32m     83\u001b[0m \u001b[38;5;28;01melif\u001b[39;00m \u001b[38;5;28mset\u001b[39m(java_options) \u001b[38;5;241m-\u001b[39m IGNORED_JAVA_OPTIONS:\n\u001b[0;32m     84\u001b[0m     logger\u001b[38;5;241m.\u001b[39mwarning(\u001b[38;5;124m\"\u001b[39m\u001b[38;5;124mjava_options is ignored until rebooting the Python process.\u001b[39m\u001b[38;5;124m\"\u001b[39m)\n\u001b[1;32m---> 86\u001b[0m \u001b[38;5;28;01mreturn\u001b[39;00m _tabula_vm\u001b[38;5;241m.\u001b[39mcall_tabula_java(options, path)\n",
      "File \u001b[1;32mC:\\anaconda\\Lib\\site-packages\\tabula\\backend.py:133\u001b[0m, in \u001b[0;36mSubprocessTabula.call_tabula_java\u001b[1;34m(self, options, path)\u001b[0m\n\u001b[0;32m    131\u001b[0m     \u001b[38;5;28;01mreturn\u001b[39;00m result\u001b[38;5;241m.\u001b[39mstdout\u001b[38;5;241m.\u001b[39mdecode(\u001b[38;5;28mself\u001b[39m\u001b[38;5;241m.\u001b[39mencoding)\n\u001b[0;32m    132\u001b[0m \u001b[38;5;28;01mexcept\u001b[39;00m \u001b[38;5;167;01mFileNotFoundError\u001b[39;00m:\n\u001b[1;32m--> 133\u001b[0m     \u001b[38;5;28;01mraise\u001b[39;00m JavaNotFoundError(JAVA_NOT_FOUND_ERROR)\n\u001b[0;32m    134\u001b[0m \u001b[38;5;28;01mexcept\u001b[39;00m subprocess\u001b[38;5;241m.\u001b[39mCalledProcessError \u001b[38;5;28;01mas\u001b[39;00m e:\n\u001b[0;32m    135\u001b[0m     logger\u001b[38;5;241m.\u001b[39merror(\u001b[38;5;124mf\u001b[39m\u001b[38;5;124m\"\u001b[39m\u001b[38;5;124mError from tabula-java:\u001b[39m\u001b[38;5;130;01m\\n\u001b[39;00m\u001b[38;5;132;01m{\u001b[39;00me\u001b[38;5;241m.\u001b[39mstderr\u001b[38;5;241m.\u001b[39mdecode(\u001b[38;5;28mself\u001b[39m\u001b[38;5;241m.\u001b[39mencoding)\u001b[38;5;132;01m}\u001b[39;00m\u001b[38;5;130;01m\\n\u001b[39;00m\u001b[38;5;124m\"\u001b[39m)\n",
      "\u001b[1;31mJavaNotFoundError\u001b[0m: `java` command is not found from this Python process.Please ensure Java is installed and PATH is set for `java`"
     ]
    }
   ],
   "source": [
    "from tabula import read_pdf\n",
    "import pandas as pd\n",
    "\n",
    "# Extract tables from pages 5 and 6 of the PDF\n",
    "file_path = r\"C:\\Users\\clark.roll\\python coding\\code_personal\\Data512\\Course Project\\Part 2\\dataset\\2023 EIA FINAL REPORT.pdf\"\n",
    "district_1_table = read_pdf(file_path, pages=5, lattice=True)\n",
    "district_2_table = read_pdf(file_path, pages=6, lattice=True)\n",
    "\n",
    "# Convert the tables to DataFrames\n",
    "district_1_df = pd.DataFrame(district_1_table[0])\n",
    "district_2_df = pd.DataFrame(district_2_table[0])\n"
   ]
  },
  {
   "cell_type": "code",
   "execution_count": null,
   "id": "80bbfc37-19cc-48ef-8c22-37a4138b56db",
   "metadata": {},
   "outputs": [],
   "source": []
  }
 ],
 "metadata": {
  "kernelspec": {
   "display_name": "Python 3 (ipykernel)",
   "language": "python",
   "name": "python3"
  },
  "language_info": {
   "codemirror_mode": {
    "name": "ipython",
    "version": 3
   },
   "file_extension": ".py",
   "mimetype": "text/x-python",
   "name": "python",
   "nbconvert_exporter": "python",
   "pygments_lexer": "ipython3",
   "version": "3.12.4"
  }
 },
 "nbformat": 4,
 "nbformat_minor": 5
}
